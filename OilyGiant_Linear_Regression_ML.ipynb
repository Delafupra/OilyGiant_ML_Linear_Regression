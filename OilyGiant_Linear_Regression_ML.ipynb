{
 "cells": [
  {
   "cell_type": "markdown",
   "metadata": {},
   "source": [
    "¡Hola!\n",
    "\n",
    "Mi nombre es Tonatiuh Cruz. Me complace revisar tu proyecto hoy.\n",
    "\n",
    "Al identificar cualquier error inicialmente, simplemente los destacaré. Te animo a localizar y abordar los problemas de forma independiente como parte de tu preparación para un rol como data-scientist. En un entorno profesional, tu líder de equipo seguiría un enfoque similar. Si encuentras la tarea desafiante, proporcionaré una pista más específica en la próxima iteración.\n",
    "\n",
    "Encontrarás mis comentarios a continuación - **por favor no los muevas, modifiques o elimines**.\n",
    "\n",
    "Puedes encontrar mis comentarios en cajas verdes, amarillas o rojas como esta:\n",
    "\n",
    "<div class=\"alert alert-block alert-success\">\n",
    "<b>Comentario del revisor</b> <a class=\"tocSkip\"></a>\n",
    "\n",
    "Éxito. Todo está hecho correctamente.\n",
    "</div>\n",
    "\n",
    "<div class=\"alert alert-block alert-warning\">\n",
    "<b>Comentario del revisor</b> <a class=\"tocSkip\"></a>\n",
    "\n",
    "Observaciones. Algunas recomendaciones.\n",
    "</div>\n",
    "\n",
    "<div class=\"alert alert-block alert-danger\">\n",
    "<b>Comentario del revisor</b> <a class=\"tocSkip\"></a>\n",
    "\n",
    "Necesita corrección. El bloque requiere algunas correcciones. El trabajo no puede ser aceptado con comentarios en rojo.\n",
    "</div>\n",
    "\n",
    "Puedes responderme utilizando esto:\n",
    "\n",
    "<div class=\"alert alert-block alert-info\">\n",
    "<b>Respuesta del estudiante.</b> <a class=\"tocSkip\"></a>\n",
    "</div>"
   ]
  },
  {
   "cell_type": "markdown",
   "metadata": {},
   "source": [
    "Proyecto: Selección Óptima de Pozos Petrolíferos para OilyGiant\n",
    "\n",
    "Descripción\n",
    "Este proyecto utiliza modelos de Machine Learning para predecir el volumen de reservas de petróleo en diferentes regiones y seleccionar los mejores lugares para la perforación de 200 nuevos pozos para la compañía de extracción petrolera OilyGiant.\n",
    "\n",
    "El objetivo principal es identificar la región con el mayor potencial de ganancias y menor riesgo de pérdidas utilizando un enfoque basado en Regresión Lineal y Bootstrapping. Los datos incluyen características geológicas y el volumen de reservas de tres regiones distintas, permitiendo el análisis y la selección estratégica de las ubicaciones más rentables.\n",
    "\n",
    "Objetivos\n",
    "Predecir el volumen de reservas de petróleo utilizando un modelo de regresión lineal entrenado en datos geológicos.\n",
    "Seleccionar los 200 pozos más productivos en cada región según las predicciones del modelo.\n",
    "Calcular la ganancia potencial para cada región basada en los 200 pozos seleccionados.\n",
    "Evaluar el riesgo de pérdidas mediante la técnica de Bootstrapping para simular escenarios y calcular la probabilidad de resultados negativos.\n",
    "Recomendar la mejor región para el desarrollo de nuevos pozos en función del beneficio potencial y el riesgo asociado.\n"
   ]
  },
  {
   "cell_type": "markdown",
   "metadata": {},
   "source": [
    "## Descarga y prepara los datos. "
   ]
  },
  {
   "cell_type": "code",
   "execution_count": 18,
   "metadata": {},
   "outputs": [],
   "source": [
    "import pandas as pd\n",
    "import numpy as np\n",
    "from numpy.random import RandomState\n",
    "\n",
    "\n",
    "from sklearn.model_selection import train_test_split\n",
    "from sklearn.linear_model import LinearRegression\n",
    "from sklearn.metrics import mean_squared_error"
   ]
  },
  {
   "cell_type": "code",
   "execution_count": 2,
   "metadata": {},
   "outputs": [],
   "source": [
    "# Cargar los archivos CSV\n",
    "geo_data_0 = pd.read_csv('/datasets/geo_data_0.csv')\n",
    "geo_data_1 = pd.read_csv('/datasets/geo_data_1.csv')\n",
    "geo_data_2 = pd.read_csv('/datasets/geo_data_2.csv')\n"
   ]
  },
  {
   "cell_type": "code",
   "execution_count": 3,
   "metadata": {},
   "outputs": [
    {
     "name": "stdout",
     "output_type": "stream",
     "text": [
      "Primeras filas de geo_data_0:\n"
     ]
    },
    {
     "data": {
      "text/html": [
       "<div>\n",
       "<style scoped>\n",
       "    .dataframe tbody tr th:only-of-type {\n",
       "        vertical-align: middle;\n",
       "    }\n",
       "\n",
       "    .dataframe tbody tr th {\n",
       "        vertical-align: top;\n",
       "    }\n",
       "\n",
       "    .dataframe thead th {\n",
       "        text-align: right;\n",
       "    }\n",
       "</style>\n",
       "<table border=\"1\" class=\"dataframe\">\n",
       "  <thead>\n",
       "    <tr style=\"text-align: right;\">\n",
       "      <th></th>\n",
       "      <th>id</th>\n",
       "      <th>f0</th>\n",
       "      <th>f1</th>\n",
       "      <th>f2</th>\n",
       "      <th>product</th>\n",
       "    </tr>\n",
       "  </thead>\n",
       "  <tbody>\n",
       "    <tr>\n",
       "      <th>0</th>\n",
       "      <td>txEyH</td>\n",
       "      <td>0.705745</td>\n",
       "      <td>-0.497823</td>\n",
       "      <td>1.221170</td>\n",
       "      <td>105.280062</td>\n",
       "    </tr>\n",
       "    <tr>\n",
       "      <th>1</th>\n",
       "      <td>2acmU</td>\n",
       "      <td>1.334711</td>\n",
       "      <td>-0.340164</td>\n",
       "      <td>4.365080</td>\n",
       "      <td>73.037750</td>\n",
       "    </tr>\n",
       "    <tr>\n",
       "      <th>2</th>\n",
       "      <td>409Wp</td>\n",
       "      <td>1.022732</td>\n",
       "      <td>0.151990</td>\n",
       "      <td>1.419926</td>\n",
       "      <td>85.265647</td>\n",
       "    </tr>\n",
       "    <tr>\n",
       "      <th>3</th>\n",
       "      <td>iJLyR</td>\n",
       "      <td>-0.032172</td>\n",
       "      <td>0.139033</td>\n",
       "      <td>2.978566</td>\n",
       "      <td>168.620776</td>\n",
       "    </tr>\n",
       "    <tr>\n",
       "      <th>4</th>\n",
       "      <td>Xdl7t</td>\n",
       "      <td>1.988431</td>\n",
       "      <td>0.155413</td>\n",
       "      <td>4.751769</td>\n",
       "      <td>154.036647</td>\n",
       "    </tr>\n",
       "  </tbody>\n",
       "</table>\n",
       "</div>"
      ],
      "text/plain": [
       "      id        f0        f1        f2     product\n",
       "0  txEyH  0.705745 -0.497823  1.221170  105.280062\n",
       "1  2acmU  1.334711 -0.340164  4.365080   73.037750\n",
       "2  409Wp  1.022732  0.151990  1.419926   85.265647\n",
       "3  iJLyR -0.032172  0.139033  2.978566  168.620776\n",
       "4  Xdl7t  1.988431  0.155413  4.751769  154.036647"
      ]
     },
     "metadata": {},
     "output_type": "display_data"
    },
    {
     "name": "stdout",
     "output_type": "stream",
     "text": [
      "\n",
      "Primeras filas de geo_data_1:\n"
     ]
    },
    {
     "data": {
      "text/html": [
       "<div>\n",
       "<style scoped>\n",
       "    .dataframe tbody tr th:only-of-type {\n",
       "        vertical-align: middle;\n",
       "    }\n",
       "\n",
       "    .dataframe tbody tr th {\n",
       "        vertical-align: top;\n",
       "    }\n",
       "\n",
       "    .dataframe thead th {\n",
       "        text-align: right;\n",
       "    }\n",
       "</style>\n",
       "<table border=\"1\" class=\"dataframe\">\n",
       "  <thead>\n",
       "    <tr style=\"text-align: right;\">\n",
       "      <th></th>\n",
       "      <th>id</th>\n",
       "      <th>f0</th>\n",
       "      <th>f1</th>\n",
       "      <th>f2</th>\n",
       "      <th>product</th>\n",
       "    </tr>\n",
       "  </thead>\n",
       "  <tbody>\n",
       "    <tr>\n",
       "      <th>0</th>\n",
       "      <td>kBEdx</td>\n",
       "      <td>-15.001348</td>\n",
       "      <td>-8.276000</td>\n",
       "      <td>-0.005876</td>\n",
       "      <td>3.179103</td>\n",
       "    </tr>\n",
       "    <tr>\n",
       "      <th>1</th>\n",
       "      <td>62mP7</td>\n",
       "      <td>14.272088</td>\n",
       "      <td>-3.475083</td>\n",
       "      <td>0.999183</td>\n",
       "      <td>26.953261</td>\n",
       "    </tr>\n",
       "    <tr>\n",
       "      <th>2</th>\n",
       "      <td>vyE1P</td>\n",
       "      <td>6.263187</td>\n",
       "      <td>-5.948386</td>\n",
       "      <td>5.001160</td>\n",
       "      <td>134.766305</td>\n",
       "    </tr>\n",
       "    <tr>\n",
       "      <th>3</th>\n",
       "      <td>KcrkZ</td>\n",
       "      <td>-13.081196</td>\n",
       "      <td>-11.506057</td>\n",
       "      <td>4.999415</td>\n",
       "      <td>137.945408</td>\n",
       "    </tr>\n",
       "    <tr>\n",
       "      <th>4</th>\n",
       "      <td>AHL4O</td>\n",
       "      <td>12.702195</td>\n",
       "      <td>-8.147433</td>\n",
       "      <td>5.004363</td>\n",
       "      <td>134.766305</td>\n",
       "    </tr>\n",
       "  </tbody>\n",
       "</table>\n",
       "</div>"
      ],
      "text/plain": [
       "      id         f0         f1        f2     product\n",
       "0  kBEdx -15.001348  -8.276000 -0.005876    3.179103\n",
       "1  62mP7  14.272088  -3.475083  0.999183   26.953261\n",
       "2  vyE1P   6.263187  -5.948386  5.001160  134.766305\n",
       "3  KcrkZ -13.081196 -11.506057  4.999415  137.945408\n",
       "4  AHL4O  12.702195  -8.147433  5.004363  134.766305"
      ]
     },
     "metadata": {},
     "output_type": "display_data"
    },
    {
     "name": "stdout",
     "output_type": "stream",
     "text": [
      "\n",
      "Primeras filas de geo_data_2:\n"
     ]
    },
    {
     "data": {
      "text/html": [
       "<div>\n",
       "<style scoped>\n",
       "    .dataframe tbody tr th:only-of-type {\n",
       "        vertical-align: middle;\n",
       "    }\n",
       "\n",
       "    .dataframe tbody tr th {\n",
       "        vertical-align: top;\n",
       "    }\n",
       "\n",
       "    .dataframe thead th {\n",
       "        text-align: right;\n",
       "    }\n",
       "</style>\n",
       "<table border=\"1\" class=\"dataframe\">\n",
       "  <thead>\n",
       "    <tr style=\"text-align: right;\">\n",
       "      <th></th>\n",
       "      <th>id</th>\n",
       "      <th>f0</th>\n",
       "      <th>f1</th>\n",
       "      <th>f2</th>\n",
       "      <th>product</th>\n",
       "    </tr>\n",
       "  </thead>\n",
       "  <tbody>\n",
       "    <tr>\n",
       "      <th>0</th>\n",
       "      <td>fwXo0</td>\n",
       "      <td>-1.146987</td>\n",
       "      <td>0.963328</td>\n",
       "      <td>-0.828965</td>\n",
       "      <td>27.758673</td>\n",
       "    </tr>\n",
       "    <tr>\n",
       "      <th>1</th>\n",
       "      <td>WJtFt</td>\n",
       "      <td>0.262778</td>\n",
       "      <td>0.269839</td>\n",
       "      <td>-2.530187</td>\n",
       "      <td>56.069697</td>\n",
       "    </tr>\n",
       "    <tr>\n",
       "      <th>2</th>\n",
       "      <td>ovLUW</td>\n",
       "      <td>0.194587</td>\n",
       "      <td>0.289035</td>\n",
       "      <td>-5.586433</td>\n",
       "      <td>62.871910</td>\n",
       "    </tr>\n",
       "    <tr>\n",
       "      <th>3</th>\n",
       "      <td>q6cA6</td>\n",
       "      <td>2.236060</td>\n",
       "      <td>-0.553760</td>\n",
       "      <td>0.930038</td>\n",
       "      <td>114.572842</td>\n",
       "    </tr>\n",
       "    <tr>\n",
       "      <th>4</th>\n",
       "      <td>WPMUX</td>\n",
       "      <td>-0.515993</td>\n",
       "      <td>1.716266</td>\n",
       "      <td>5.899011</td>\n",
       "      <td>149.600746</td>\n",
       "    </tr>\n",
       "  </tbody>\n",
       "</table>\n",
       "</div>"
      ],
      "text/plain": [
       "      id        f0        f1        f2     product\n",
       "0  fwXo0 -1.146987  0.963328 -0.828965   27.758673\n",
       "1  WJtFt  0.262778  0.269839 -2.530187   56.069697\n",
       "2  ovLUW  0.194587  0.289035 -5.586433   62.871910\n",
       "3  q6cA6  2.236060 -0.553760  0.930038  114.572842\n",
       "4  WPMUX -0.515993  1.716266  5.899011  149.600746"
      ]
     },
     "metadata": {},
     "output_type": "display_data"
    },
    {
     "name": "stdout",
     "output_type": "stream",
     "text": [
      "\n",
      "Información sobre geo_data_0:\n",
      "<class 'pandas.core.frame.DataFrame'>\n",
      "RangeIndex: 100000 entries, 0 to 99999\n",
      "Data columns (total 5 columns):\n",
      " #   Column   Non-Null Count   Dtype  \n",
      "---  ------   --------------   -----  \n",
      " 0   id       100000 non-null  object \n",
      " 1   f0       100000 non-null  float64\n",
      " 2   f1       100000 non-null  float64\n",
      " 3   f2       100000 non-null  float64\n",
      " 4   product  100000 non-null  float64\n",
      "dtypes: float64(4), object(1)\n",
      "memory usage: 3.8+ MB\n"
     ]
    },
    {
     "data": {
      "text/plain": [
       "None"
      ]
     },
     "metadata": {},
     "output_type": "display_data"
    },
    {
     "name": "stdout",
     "output_type": "stream",
     "text": [
      "\n",
      "Información sobre geo_data_1:\n",
      "<class 'pandas.core.frame.DataFrame'>\n",
      "RangeIndex: 100000 entries, 0 to 99999\n",
      "Data columns (total 5 columns):\n",
      " #   Column   Non-Null Count   Dtype  \n",
      "---  ------   --------------   -----  \n",
      " 0   id       100000 non-null  object \n",
      " 1   f0       100000 non-null  float64\n",
      " 2   f1       100000 non-null  float64\n",
      " 3   f2       100000 non-null  float64\n",
      " 4   product  100000 non-null  float64\n",
      "dtypes: float64(4), object(1)\n",
      "memory usage: 3.8+ MB\n"
     ]
    },
    {
     "data": {
      "text/plain": [
       "None"
      ]
     },
     "metadata": {},
     "output_type": "display_data"
    },
    {
     "name": "stdout",
     "output_type": "stream",
     "text": [
      "\n",
      "Información sobre geo_data_2:\n",
      "<class 'pandas.core.frame.DataFrame'>\n",
      "RangeIndex: 100000 entries, 0 to 99999\n",
      "Data columns (total 5 columns):\n",
      " #   Column   Non-Null Count   Dtype  \n",
      "---  ------   --------------   -----  \n",
      " 0   id       100000 non-null  object \n",
      " 1   f0       100000 non-null  float64\n",
      " 2   f1       100000 non-null  float64\n",
      " 3   f2       100000 non-null  float64\n",
      " 4   product  100000 non-null  float64\n",
      "dtypes: float64(4), object(1)\n",
      "memory usage: 3.8+ MB\n"
     ]
    },
    {
     "data": {
      "text/plain": [
       "None"
      ]
     },
     "metadata": {},
     "output_type": "display_data"
    }
   ],
   "source": [
    "# Mostrar las primeras filas de cada dataset para inspección preliminar\n",
    "print(\"Primeras filas de geo_data_0:\")\n",
    "display(geo_data_0.head())\n",
    "\n",
    "print(\"\\nPrimeras filas de geo_data_1:\")\n",
    "display(geo_data_1.head())\n",
    "\n",
    "print(\"\\nPrimeras filas de geo_data_2:\")\n",
    "display(geo_data_2.head())\n",
    "\n",
    "# Exploración de las columnas y el tipo de datos en cada conjunto\n",
    "print(\"\\nInformación sobre geo_data_0:\")\n",
    "display(geo_data_0.info())\n",
    "\n",
    "print(\"\\nInformación sobre geo_data_1:\")\n",
    "display(geo_data_1.info())\n",
    "\n",
    "print(\"\\nInformación sobre geo_data_2:\")\n",
    "display(geo_data_2.info())"
   ]
  },
  {
   "cell_type": "code",
   "execution_count": 4,
   "metadata": {},
   "outputs": [
    {
     "name": "stdout",
     "output_type": "stream",
     "text": [
      "\n",
      "Nulos geo_data_0:\n",
      "id         0\n",
      "f0         0\n",
      "f1         0\n",
      "f2         0\n",
      "product    0\n",
      "dtype: int64\n",
      "\n",
      "Nulos geo_data_1:\n",
      "id         0\n",
      "f0         0\n",
      "f1         0\n",
      "f2         0\n",
      "product    0\n",
      "dtype: int64\n",
      "\n",
      "Nulos geo_data_2:\n",
      "id         0\n",
      "f0         0\n",
      "f1         0\n",
      "f2         0\n",
      "product    0\n",
      "dtype: int64\n"
     ]
    }
   ],
   "source": [
    "print(\"\\nNulos geo_data_0:\")\n",
    "print(geo_data_0.isnull().sum())\n",
    "\n",
    "print(\"\\nNulos geo_data_1:\")\n",
    "print(geo_data_1.isnull().sum())\n",
    "\n",
    "print(\"\\nNulos geo_data_2:\")\n",
    "print(geo_data_2.isnull().sum())"
   ]
  },
  {
   "cell_type": "code",
   "execution_count": 5,
   "metadata": {},
   "outputs": [
    {
     "name": "stdout",
     "output_type": "stream",
     "text": [
      "0\n",
      "0\n",
      "0\n"
     ]
    }
   ],
   "source": [
    "#duplicados\n",
    "print(geo_data_0.duplicated().sum())\n",
    "print(geo_data_1.duplicated().sum())\n",
    "print(geo_data_2.duplicated().sum())"
   ]
  },
  {
   "cell_type": "markdown",
   "metadata": {},
   "source": [
    "<div class=\"alert alert-block alert-success\">\n",
    "<b>Comentario del revisor</b> <a class=\"tocSkip\"></a>\n",
    "\n",
    "Muy bien! Eliminar duplicados y valores nulos es importante para disminuir el ruido durante el entrenamiento del modelo de regresión.\n",
    "</div>"
   ]
  },
  {
   "cell_type": "markdown",
   "metadata": {},
   "source": [
    "##  Entrena y prueba el modelo para cada región en geo_data_0.csv"
   ]
  },
  {
   "cell_type": "code",
   "execution_count": 6,
   "metadata": {},
   "outputs": [],
   "source": [
    "# Dividir los datos en características (f0, f1, f2) y objetivo (product)\n",
    "X = geo_data_0[['f0', 'f1', 'f2']]\n",
    "y = geo_data_0['product']\n",
    "\n",
    "# 1.- Dividir en conjunto de entrenamiento (75%) y validación (25%)\n",
    "X_train, X_val, y_train, y_val = train_test_split(X, y, test_size=0.25, random_state=42)"
   ]
  },
  {
   "cell_type": "markdown",
   "metadata": {},
   "source": [
    "<div class=\"alert alert-block alert-success\">\n",
    "<b>Comentario del revisor</b> <a class=\"tocSkip\"></a>\n",
    "\n",
    "Buen trabajo segmentando, solamente re comiendo el escalando la información. El escalado te puede ser muy útil para mejorar el rendimiento del modelo al asegurar que todas las características tienen el mismo rango. \n",
    "</div>\n",
    "\n"
   ]
  },
  {
   "cell_type": "code",
   "execution_count": 7,
   "metadata": {},
   "outputs": [],
   "source": [
    "# 2.- Crear y entrenar el modelo de regresión lineal\n",
    "model = LinearRegression()\n",
    "model.fit(X_train, y_train)\n",
    "\n",
    "# Realizar predicciones en el conjunto de validación\n",
    "y_pred = model.predict(X_val)"
   ]
  },
  {
   "cell_type": "code",
   "execution_count": 8,
   "metadata": {},
   "outputs": [
    {
     "data": {
      "text/html": [
       "<div>\n",
       "<style scoped>\n",
       "    .dataframe tbody tr th:only-of-type {\n",
       "        vertical-align: middle;\n",
       "    }\n",
       "\n",
       "    .dataframe tbody tr th {\n",
       "        vertical-align: top;\n",
       "    }\n",
       "\n",
       "    .dataframe thead th {\n",
       "        text-align: right;\n",
       "    }\n",
       "</style>\n",
       "<table border=\"1\" class=\"dataframe\">\n",
       "  <thead>\n",
       "    <tr style=\"text-align: right;\">\n",
       "      <th></th>\n",
       "      <th>Predicciones</th>\n",
       "      <th>Respuestas</th>\n",
       "    </tr>\n",
       "  </thead>\n",
       "  <tbody>\n",
       "    <tr>\n",
       "      <th>75721</th>\n",
       "      <td>101.901017</td>\n",
       "      <td>122.073350</td>\n",
       "    </tr>\n",
       "    <tr>\n",
       "      <th>80184</th>\n",
       "      <td>78.217774</td>\n",
       "      <td>48.738540</td>\n",
       "    </tr>\n",
       "    <tr>\n",
       "      <th>19864</th>\n",
       "      <td>115.266901</td>\n",
       "      <td>131.338088</td>\n",
       "    </tr>\n",
       "    <tr>\n",
       "      <th>76699</th>\n",
       "      <td>105.618618</td>\n",
       "      <td>88.327757</td>\n",
       "    </tr>\n",
       "    <tr>\n",
       "      <th>92991</th>\n",
       "      <td>97.980185</td>\n",
       "      <td>36.959266</td>\n",
       "    </tr>\n",
       "  </tbody>\n",
       "</table>\n",
       "</div>"
      ],
      "text/plain": [
       "       Predicciones  Respuestas\n",
       "75721    101.901017  122.073350\n",
       "80184     78.217774   48.738540\n",
       "19864    115.266901  131.338088\n",
       "76699    105.618618   88.327757\n",
       "92991     97.980185   36.959266"
      ]
     },
     "metadata": {},
     "output_type": "display_data"
    }
   ],
   "source": [
    "# 3.- Guardar las predicciones y las respuestas correctas\n",
    "predicciones = pd.DataFrame({'Predicciones': y_pred, 'Respuestas': y_val})\n",
    "display(predicciones.head())"
   ]
  },
  {
   "cell_type": "code",
   "execution_count": 9,
   "metadata": {},
   "outputs": [
    {
     "name": "stdout",
     "output_type": "stream",
     "text": [
      "Volumen medio de reservas predicho: 92.40 miles de barriles\n",
      "RMSE: 37.76 miles de barriles\n"
     ]
    }
   ],
   "source": [
    "\n",
    "# 4.- Calcular el RMSE\n",
    "rmse = np.sqrt(mean_squared_error(y_val, y_pred))\n",
    "\n",
    "# Calcular el volumen medio de reservas predicho\n",
    "volumen_medio_reservas = np.mean(y_pred)\n",
    "\n",
    "print(f\"Volumen medio de reservas predicho: {volumen_medio_reservas:.2f} miles de barriles\")\n",
    "print(f\"RMSE: {rmse:.2f} miles de barriles\")"
   ]
  },
  {
   "cell_type": "markdown",
   "metadata": {},
   "source": [
    "El volumen medio de reservas predicho te indica cuánto espera el modelo que un pozo típico contenga.\n",
    "\n",
    "El RMSE te muestra el error promedio de las predicciones con respecto a las reservas reales. Cuanto más bajo sea el RMSE, mejor es el rendimiento del modelo"
   ]
  },
  {
   "cell_type": "code",
   "execution_count": 10,
   "metadata": {},
   "outputs": [],
   "source": [
    "# 6.- Función para entrenar el modelo y calcular el volumen medio y el RMSE\n",
    "def entrenar_y_evaluar_modelo(data):\n",
    "    # Dividir los datos en características (f0, f1, f2) y objetivo (product)\n",
    "    X = data[['f0', 'f1', 'f2']]\n",
    "    y = data['product']\n",
    "    \n",
    "    # Dividir en conjunto de entrenamiento (75%) y validación (25%)\n",
    "    X_train, X_val, y_train, y_val = train_test_split(X, y, test_size=0.25, random_state=42)\n",
    "    \n",
    "    # Crear y entrenar el modelo de regresión lineal\n",
    "    model = LinearRegression()\n",
    "    model.fit(X_train, y_train)\n",
    "    \n",
    "    # Realizar predicciones en el conjunto de validación\n",
    "    y_pred = model.predict(X_val)\n",
    "    \n",
    "    # Calcular el RMSE\n",
    "    rmse = np.sqrt(mean_squared_error(y_val, y_pred))\n",
    "    \n",
    "    # Calcular el volumen medio de reservas predicho\n",
    "    volumen_medio_reservas = np.mean(y_pred)\n",
    "    \n",
    "    # Retornar las predicciones, el volumen medio y el RMSE\n",
    "    return y_pred, y_val, volumen_medio_reservas, rmse\n"
   ]
  },
  {
   "cell_type": "code",
   "execution_count": 11,
   "metadata": {},
   "outputs": [
    {
     "name": "stdout",
     "output_type": "stream",
     "text": [
      "Región 0 - Volumen medio de reservas: 92.40, RMSE: 37.76\n",
      "Región 1 - Volumen medio de reservas: 68.71, RMSE: 0.89\n",
      "Región 2 - Volumen medio de reservas: 94.77, RMSE: 40.15\n"
     ]
    }
   ],
   "source": [
    "# Aplicar la función a geo_data_0\n",
    "predicciones_0, respuestas_0, volumen_medio_0, rmse_0 = entrenar_y_evaluar_modelo(geo_data_0)\n",
    "print(f\"Región 0 - Volumen medio de reservas: {volumen_medio_0:.2f}, RMSE: {rmse_0:.2f}\")\n",
    "\n",
    "# Aplicar la función a geo_data_1 y geo_data_2\n",
    "predicciones_1, respuestas_1, volumen_medio_1, rmse_1 = entrenar_y_evaluar_modelo(geo_data_1)\n",
    "print(f\"Región 1 - Volumen medio de reservas: {volumen_medio_1:.2f}, RMSE: {rmse_1:.2f}\")\n",
    "\n",
    "predicciones_2, respuestas_2, volumen_medio_2, rmse_2 = entrenar_y_evaluar_modelo(geo_data_2)\n",
    "print(f\"Región 2 - Volumen medio de reservas: {volumen_medio_2:.2f}, RMSE: {rmse_2:.2f}\")"
   ]
  },
  {
   "cell_type": "markdown",
   "metadata": {},
   "source": [
    "<div class=\"alert alert-block alert-success\">\n",
    "<b>Comentario del revisor</b> <a class=\"tocSkip\"></a>\n",
    "\n",
    "Implementaste el modelo de regresión logística de forma excelente para los 3 conjuntos de datos! En este punto ya puedes obervar cuál es el modelo con el mayor $R^2$ y menor RMSE.\n",
    "</div>"
   ]
  },
  {
   "cell_type": "markdown",
   "metadata": {},
   "source": [
    "## Preparar para el cálculo de ganancias"
   ]
  },
  {
   "cell_type": "code",
   "execution_count": 13,
   "metadata": {},
   "outputs": [
    {
     "name": "stdout",
     "output_type": "stream",
     "text": [
      "Cantidad mínima de reservas por pozo para evitar pérdidas: 111.11 unidades\n",
      "Volumen medio predicho en Región 0: 92.40 unidades\n",
      "Volumen medio predicho en Región 1: 68.71 unidades\n",
      "Volumen medio predicho en Región 2: 94.77 unidades\n",
      "Región 0 no alcanzará el mínimo para evitar pérdidas.\n",
      "Región 1 no alcanzará el mínimo para evitar pérdidas.\n",
      "Región 2 no alcanzará el mínimo para evitar pérdidas.\n"
     ]
    }
   ],
   "source": [
    "# 1.- Almacenar las cantidades mínimas necesarias para evitar pérdidas\n",
    "costo_total = 100_000_000  # 100 millones de dólares\n",
    "pozos = 200\n",
    "valor_minimo_por_pozo = 500_000  # Cada pozo debe producir al menos este valor\n",
    "cantidad_minima_unidades = valor_minimo_por_pozo / 4500  # Equivalente en unidades de reservas\n",
    "\n",
    "# Valores medios de reservas predichas por región (ya calculados)\n",
    "volumen_medio_0 = volumen_medio_0  # Para geo_data_0\n",
    "volumen_medio_1 = volumen_medio_1  # Para geo_data_1\n",
    "volumen_medio_2 = volumen_medio_2  # Para geo_data_2\n",
    "\n",
    "# 2.- Comparar las cantidades mínimas con las reservas predichas por cada región\n",
    "print(f\"Cantidad mínima de reservas por pozo para evitar pérdidas: {cantidad_minima_unidades:.2f} unidades\")\n",
    "\n",
    "print(f\"Volumen medio predicho en Región 0: {volumen_medio_0:.2f} unidades\")\n",
    "print(f\"Volumen medio predicho en Región 1: {volumen_medio_1:.2f} unidades\")\n",
    "print(f\"Volumen medio predicho en Región 2: {volumen_medio_2:.2f} unidades\")\n",
    "\n",
    "# Comparaciones directas\n",
    "if volumen_medio_0 >= cantidad_minima_unidades:\n",
    "    print(\"Región 0 puede evitar pérdidas según el volumen medio de reservas.\")\n",
    "else:\n",
    "    print(\"Región 0 no alcanzará el mínimo para evitar pérdidas.\")\n",
    "\n",
    "if volumen_medio_1 >= cantidad_minima_unidades:\n",
    "    print(\"Región 1 puede evitar pérdidas según el volumen medio de reservas.\")\n",
    "else:\n",
    "    print(\"Región 1 no alcanzará el mínimo para evitar pérdidas.\")\n",
    "\n",
    "if volumen_medio_2 >= cantidad_minima_unidades:\n",
    "    print(\"Región 2 puede evitar pérdidas según el volumen medio de reservas.\")\n",
    "else:\n",
    "    print(\"Región 2 no alcanzará el mínimo para evitar pérdidas.\")"
   ]
  },
  {
   "cell_type": "markdown",
   "metadata": {},
   "source": [
    "Cantidad mínima para evitar pérdidas: Para evitar pérdidas, cada pozo debe producir al menos 111.1 unidades (111,100 barriles) de petróleo.\n",
    "\n",
    "Comparación por región:\n",
    "\n",
    "Región 0: Tiene un volumen medio predicho de 92.40 unidades, por lo que no alcanzará el mínimo para evitar pérdidas.\n",
    "\n",
    "Región 1: Tiene un volumen medio predicho de 68.71 unidades, por lo que tampoco alcanzará el mínimo.\n",
    "\n",
    "Región 2: Con un volumen medio predicho de 94.77 unidades, tampoco logra alcanzar el umbral de 111.1 unidades para evitar pérdidas."
   ]
  },
  {
   "cell_type": "markdown",
   "metadata": {},
   "source": [
    "<div class=\"alert alert-block alert-success\">\n",
    "<b>Comentario del revisor</b> <a class=\"tocSkip\"></a>\n",
    "\n",
    "Muy bien calculado el beneficio bruto de las 3 regiones! Estos cálculos te ayudarán en la elección de la mejor región teniendo en cuenta también los beneficios brutos según las predicciones, pero a pesar de que el beneficio bruto sea mayor en tu conjunto data2, es necesario comprobar los riesgos que implica.\n",
    "</div>"
   ]
  },
  {
   "cell_type": "markdown",
   "metadata": {},
   "source": [
    "## Escribir una función para calcular la ganancia de un conjunto de pozos de petróleo seleccionados y modela las predicciones"
   ]
  },
  {
   "cell_type": "code",
   "execution_count": 16,
   "metadata": {},
   "outputs": [
    {
     "name": "stdout",
     "output_type": "stream",
     "text": [
      "Región 0 - Volumen total de reservas de los 200 pozos: 30881.46 miles de barriles\n",
      "Región 0 - Ganancia total potencial: $138966584.80 USD\n",
      "\n",
      "Región 1 - Volumen total de reservas de los 200 pozos: 27748.75 miles de barriles\n",
      "Región 1 - Ganancia total potencial: $124869381.15 USD\n",
      "\n",
      "Región 2 - Volumen total de reservas de los 200 pozos: 29728.85 miles de barriles\n",
      "Región 2 - Ganancia total potencial: $133779815.14 USD\n"
     ]
    }
   ],
   "source": [
    "# 1.- Definir función para calcular la ganancia de los 200 pozos más productivos\n",
    "def calcular_ganancia_top_pozos(predicciones, cantidad_pozos=200, precio_por_unidad=4500):\n",
    "    # Ordenar las predicciones de mayor a menor\n",
    "    predicciones_ordenadas = np.sort(predicciones)[::-1]\n",
    "    \n",
    "    # Seleccionar las predicciones más altas (200 pozos)\n",
    "    top_pozos = predicciones_ordenadas[:cantidad_pozos]\n",
    "    \n",
    "    # 2.- Calclar el volumen total de reservas de los 200 pozos\n",
    "    volumen_total = np.sum(top_pozos)\n",
    "    \n",
    "    # Calcular la ganancia total\n",
    "    ganancia_total = volumen_total * precio_por_unidad\n",
    "    \n",
    "    # Retornar el volumen total y la ganancia total\n",
    "    return volumen_total, ganancia_total\n",
    "\n",
    "# 3.- Calcular las ganancias para cada región usando las predicciones ya generadas\n",
    "volumen_total_0, ganancia_total_0 = calcular_ganancia_top_pozos(predicciones_0)\n",
    "volumen_total_1, ganancia_total_1 = calcular_ganancia_top_pozos(predicciones_1)\n",
    "volumen_total_2, ganancia_total_2 = calcular_ganancia_top_pozos(predicciones_2)\n",
    "\n",
    "# Mostrar los resultados\n",
    "print(f\"Región 0 - Volumen total de reservas de los 200 pozos: {volumen_total_0:.2f} miles de barriles\")\n",
    "print(f\"Región 0 - Ganancia total potencial: ${ganancia_total_0:.2f} USD\")\n",
    "\n",
    "print(f\"\\nRegión 1 - Volumen total de reservas de los 200 pozos: {volumen_total_1:.2f} miles de barriles\")\n",
    "print(f\"Región 1 - Ganancia total potencial: ${ganancia_total_1:.2f} USD\")\n",
    "\n",
    "print(f\"\\nRegión 2 - Volumen total de reservas de los 200 pozos: {volumen_total_2:.2f} miles de barriles\")\n",
    "print(f\"Región 2 - Ganancia total potencial: ${ganancia_total_2:.2f} USD\")"
   ]
  },
  {
   "cell_type": "markdown",
   "metadata": {},
   "source": [
    "Tras obtener las ganancias potenciales de cada región, podemos determinar que la región 0 es la más rentable para el desarrollo de los pozos petrolíferos."
   ]
  },
  {
   "cell_type": "markdown",
   "metadata": {},
   "source": [
    "## Calcular riesgos y ganancias para cada región"
   ]
  },
  {
   "cell_type": "code",
   "execution_count": 19,
   "metadata": {},
   "outputs": [
    {
     "name": "stdout",
     "output_type": "stream",
     "text": [
      "Región 0 - Beneficio promedio: $83233775.74, Intervalo de confianza 95%: [80140418.97196116 86165423.28155154], Riesgo de pérdida: 0.00%\n",
      "Región 1 - Beneficio promedio: $61898748.12, Intervalo de confianza 95%: [55858090.21636575 67436881.04198448], Riesgo de pérdida: 0.00%\n",
      "Región 2 - Beneficio promedio: $85317638.33, Intervalo de confianza 95%: [82704865.84064385 87711780.23711924], Riesgo de pérdida: 0.00%\n"
     ]
    }
   ],
   "source": [
    "\n",
    "# Definir la función para realizar bootstrapping y calcular ganancias y riesgos\n",
    "def bootstrapping(predicciones, precio_por_unidad=4500, n_samples=1000):\n",
    "    rng = RandomState(42)\n",
    "    ganancias = []\n",
    "    \n",
    "    for _ in range(n_samples):\n",
    "        # Tomar una muestra con reemplazo de 200 pozos\n",
    "        sample = rng.choice(predicciones, size=200, replace=True)\n",
    "        \n",
    "        # Calcular la ganancia total para la muestra\n",
    "        ganancia = np.sum(sample) * precio_por_unidad\n",
    "        ganancias.append(ganancia)\n",
    "    \n",
    "    # Convertir a array para análisis\n",
    "    ganancias = np.array(ganancias)\n",
    "    \n",
    "    # Calcular el beneficio promedio y el intervalo de confianza del 95%\n",
    "    beneficio_promedio = np.mean(ganancias)\n",
    "    intervalo_confianza = np.percentile(ganancias, [2.5, 97.5])\n",
    "    \n",
    "    # Calcular el riesgo de pérdida (ganancia negativa)\n",
    "    riesgo_perdida = np.mean(ganancias < 0)\n",
    "    \n",
    "    return beneficio_promedio, intervalo_confianza, riesgo_perdida\n",
    "\n",
    "# Realizar bootstrapping para cada región\n",
    "beneficio_promedio_0, intervalo_confianza_0, riesgo_perdida_0 = bootstrapping(predicciones_0)\n",
    "beneficio_promedio_1, intervalo_confianza_1, riesgo_perdida_1 = bootstrapping(predicciones_1)\n",
    "beneficio_promedio_2, intervalo_confianza_2, riesgo_perdida_2 = bootstrapping(predicciones_2)\n",
    "\n",
    "# Mostrar los resultados para cada región\n",
    "print(f\"Región 0 - Beneficio promedio: ${beneficio_promedio_0:.2f}, Intervalo de confianza 95%: {intervalo_confianza_0}, Riesgo de pérdida: {riesgo_perdida_0:.2%}\")\n",
    "print(f\"Región 1 - Beneficio promedio: ${beneficio_promedio_1:.2f}, Intervalo de confianza 95%: {intervalo_confianza_1}, Riesgo de pérdida: {riesgo_perdida_1:.2%}\")\n",
    "print(f\"Región 2 - Beneficio promedio: ${beneficio_promedio_2:.2f}, Intervalo de confianza 95%: {intervalo_confianza_2}, Riesgo de pérdida: {riesgo_perdida_2:.2%}\")"
   ]
  },
  {
   "cell_type": "markdown",
   "metadata": {},
   "source": [
    "<div class=\"alert alert-block alert-success\">\n",
    "<b>Comentario del revisor</b> <a class=\"tocSkip\"></a>\n",
    "\n",
    "Excelente trabajo calculando el beneficio promedio, los intervalos de confianza del 95% y el riesgo de pérdidas. El uso de percentiles para los intervalos de confianza es una muy buena práctica este tipo de análisis. Tus cálculos están bien fundamentados y proporcionan información valiosa sobre el rendimiento de las simulaciones de bootstrap.\n",
    "</div>\n",
    "\n"
   ]
  },
  {
   "cell_type": "markdown",
   "metadata": {},
   "source": [
    "## Conclusión\n",
    "\n",
    "La Región 2 tiene el mayor beneficio promedio (85.32 millones de dólares) y el intervalo de confianza más alto, lo que indica que es la región con las mejores perspectivas económicas.\n",
    "\n",
    "La Región 0 también tiene un beneficio significativo (83.23 millones de dólares), con un intervalo de confianza bastante cercano.\n",
    "\n",
    "La Región 1 tiene el menor beneficio promedio (61.90 millones de dólares), lo que la hace la menos atractiva.\n",
    "\n",
    "Recomendación:\n",
    "La Región 2 es la opción más favorable para desarrollar los pozos, ya que ofrece el mayor beneficio promedio con un bajo riesgo de pérdidas."
   ]
  },
  {
   "cell_type": "markdown",
   "metadata": {},
   "source": [
    "<div class=\"alert alert-block alert-success\">\n",
    "<b>Resumen de la revisión</b> <a class=\"tocSkip\"></a>\n",
    "\n",
    "Excelente trabajo! Tu código es ordenado y limpio, tanto tu exploración y procesamiento de datos es correcta y eficiente y además la implementación del modelo de regresión lineal y los análisis posteriores brindaron información confiable y suficiente para la toma de decisiones. Sigue con el excelente trabajo!\n",
    "\n",
    "</div>\n",
    "\n"
   ]
  }
 ],
 "metadata": {
  "ExecuteTimeLog": [
   {
    "duration": 300,
    "start_time": "2024-09-16T17:03:11.782Z"
   },
   {
    "duration": 530,
    "start_time": "2024-09-16T17:03:21.762Z"
   },
   {
    "duration": 61,
    "start_time": "2024-09-16T17:03:55.578Z"
   },
   {
    "duration": 58,
    "start_time": "2024-09-16T17:04:07.937Z"
   },
   {
    "duration": 62,
    "start_time": "2024-09-16T17:04:11.080Z"
   },
   {
    "duration": 60,
    "start_time": "2024-09-16T17:05:05.469Z"
   },
   {
    "duration": 182,
    "start_time": "2024-09-16T17:06:00.076Z"
   },
   {
    "duration": 297,
    "start_time": "2024-09-16T17:06:28.980Z"
   },
   {
    "duration": 218,
    "start_time": "2024-09-16T17:06:33.455Z"
   },
   {
    "duration": 33,
    "start_time": "2024-09-16T17:06:39.718Z"
   },
   {
    "duration": 47,
    "start_time": "2024-09-16T17:08:14.173Z"
   },
   {
    "duration": 13,
    "start_time": "2024-09-16T17:09:02.068Z"
   },
   {
    "duration": 13,
    "start_time": "2024-09-16T17:09:06.608Z"
   },
   {
    "duration": 8,
    "start_time": "2024-09-16T17:09:11.709Z"
   },
   {
    "duration": 9,
    "start_time": "2024-09-16T17:10:17.865Z"
   },
   {
    "duration": 11,
    "start_time": "2024-09-16T17:10:30.104Z"
   },
   {
    "duration": 16,
    "start_time": "2024-09-16T17:10:45.694Z"
   },
   {
    "duration": 7,
    "start_time": "2024-09-16T17:11:08.682Z"
   },
   {
    "duration": 31,
    "start_time": "2024-09-16T17:11:24.571Z"
   },
   {
    "duration": 79,
    "start_time": "2024-09-16T17:12:08.165Z"
   },
   {
    "duration": 80,
    "start_time": "2024-09-16T17:12:34.482Z"
   },
   {
    "duration": 79,
    "start_time": "2024-09-16T17:13:36.143Z"
   },
   {
    "duration": 17,
    "start_time": "2024-09-16T17:16:32.470Z"
   },
   {
    "duration": 471,
    "start_time": "2024-09-16T17:16:42.127Z"
   },
   {
    "duration": 52,
    "start_time": "2024-09-16T17:16:45.413Z"
   },
   {
    "duration": 14,
    "start_time": "2024-09-16T17:16:49.337Z"
   },
   {
    "duration": 13,
    "start_time": "2024-09-16T17:16:59.854Z"
   },
   {
    "duration": 12,
    "start_time": "2024-09-16T17:17:02.738Z"
   },
   {
    "duration": 7,
    "start_time": "2024-09-16T17:17:34.914Z"
   },
   {
    "duration": 3,
    "start_time": "2024-09-16T17:18:29.037Z"
   },
   {
    "duration": 805,
    "start_time": "2024-09-16T17:18:37.308Z"
   },
   {
    "duration": 339,
    "start_time": "2024-09-16T17:18:38.116Z"
   },
   {
    "duration": 67,
    "start_time": "2024-09-16T17:18:38.457Z"
   },
   {
    "duration": 15,
    "start_time": "2024-09-16T17:18:38.526Z"
   },
   {
    "duration": 121,
    "start_time": "2024-09-16T17:18:38.543Z"
   },
   {
    "duration": 12,
    "start_time": "2024-09-16T17:18:38.665Z"
   },
   {
    "duration": 25,
    "start_time": "2024-09-16T17:18:38.687Z"
   },
   {
    "duration": 9,
    "start_time": "2024-09-16T17:18:38.714Z"
   },
   {
    "duration": 72,
    "start_time": "2024-09-16T17:18:38.725Z"
   },
   {
    "duration": 4,
    "start_time": "2024-09-16T17:22:29.336Z"
   },
   {
    "duration": 102,
    "start_time": "2024-09-16T17:22:35.901Z"
   },
   {
    "duration": 3,
    "start_time": "2024-09-16T17:22:59.913Z"
   },
   {
    "duration": 6,
    "start_time": "2024-09-16T17:35:33.825Z"
   },
   {
    "duration": 9,
    "start_time": "2024-09-16T17:40:54.573Z"
   },
   {
    "duration": 10,
    "start_time": "2024-09-16T17:41:21.096Z"
   },
   {
    "duration": 9,
    "start_time": "2024-09-16T17:41:27.934Z"
   },
   {
    "duration": 227,
    "start_time": "2024-09-16T17:53:14.771Z"
   },
   {
    "duration": 3,
    "start_time": "2024-09-16T17:53:23.720Z"
   },
   {
    "duration": 83,
    "start_time": "2024-09-16T17:53:31.925Z"
   }
  ],
  "kernelspec": {
   "display_name": "Python 3 (ipykernel)",
   "language": "python",
   "name": "python3"
  },
  "language_info": {
   "codemirror_mode": {
    "name": "ipython",
    "version": 3
   },
   "file_extension": ".py",
   "mimetype": "text/x-python",
   "name": "python",
   "nbconvert_exporter": "python",
   "pygments_lexer": "ipython3",
   "version": "3.9.19"
  },
  "toc": {
   "base_numbering": 1,
   "nav_menu": {},
   "number_sections": true,
   "sideBar": true,
   "skip_h1_title": true,
   "title_cell": "Table of Contents",
   "title_sidebar": "Contents",
   "toc_cell": false,
   "toc_position": {},
   "toc_section_display": true,
   "toc_window_display": false
  }
 },
 "nbformat": 4,
 "nbformat_minor": 2
}
